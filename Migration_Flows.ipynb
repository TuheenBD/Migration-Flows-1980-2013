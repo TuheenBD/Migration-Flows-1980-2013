{
 "cells": [
  {
   "cell_type": "code",
   "execution_count": 51,
   "id": "e56057e9-0dcd-40b1-b50c-60d8638ebb0a",
   "metadata": {},
   "outputs": [],
   "source": [
    "import pandas as pd\n",
    "import numpy as np\n",
    "import matplotlib.pyplot as plt\n",
    "import seaborn as sns\n",
    "import os"
   ]
  },
  {
   "cell_type": "code",
   "execution_count": 97,
   "id": "ab3c16f1-5c3f-4e73-8a34-2932c247c057",
   "metadata": {},
   "outputs": [
    {
     "name": "stdout",
     "output_type": "stream",
     "text": [
      "File exists.\n",
      "You have permission to read the file.\n"
     ]
    }
   ],
   "source": [
    "file_path = '/Users/syedakramulhassan/Library/CloudStorage/OneDrive-Personal/WorkSpace/Learning/Python/Learning Pandas/undesa_pd_2015_migration_flow_totals.csv'\n",
    "\n",
    "# Check if the file exists\n",
    "if os.path.exists(file_path):\n",
    "    print(\"File exists.\")\n",
    "    # Check if the file is readable\n",
    "    if os.access(file_path, os.R_OK):\n",
    "        print(\"You have permission to read the file.\")\n",
    "    else:\n",
    "        print(\"You do not have permission to read the file.\")\n",
    "else:\n",
    "    print(\"File does not exist.\")"
   ]
  },
  {
   "cell_type": "code",
   "execution_count": 99,
   "id": "1e46832e-8bf6-4394-85ba-1ad0406d6f5e",
   "metadata": {},
   "outputs": [
    {
     "name": "stdout",
     "output_type": "stream",
     "text": [
      "     CntName     Criteria        Type    Coverage      1980      1981  \\\n",
      "0    Armenia    Residence   Emigrants        Both       NaN       NaN   \n",
      "1    Armenia    Residence  Immigrants        Both       NaN       NaN   \n",
      "2  Australia    Residence   Emigrants        Both   90860.0   85600.0   \n",
      "3  Australia    Residence  Immigrants        Both  184290.0  212690.0   \n",
      "4    Austria  Citizenship   Emigrants    Citizens       NaN       NaN   \n",
      "5    Austria  Citizenship   Emigrants  Foreigners       NaN       NaN   \n",
      "6    Austria  Citizenship  Immigrants    Citizens       NaN       NaN   \n",
      "7    Austria  Citizenship  Immigrants  Foreigners       NaN       NaN   \n",
      "8    Austria    Residence   Emigrants        Both       NaN       NaN   \n",
      "9    Austria    Residence  Immigrants        Both       NaN       NaN   \n",
      "\n",
      "       1982      1983      1984      1985  ...      2004      2005      2006  \\\n",
      "0       NaN       NaN       NaN       NaN  ...    8451.0    9303.0    8053.0   \n",
      "1       NaN       NaN       NaN       NaN  ...    1514.0    1497.0    1335.0   \n",
      "2   92340.0  100510.0   96360.0   93440.0  ...  212200.0  206690.0  204800.0   \n",
      "3  195200.0  153570.0  153530.0  172550.0  ...  350990.0  363470.0  402210.0   \n",
      "4       NaN       NaN       NaN       NaN  ...   21703.0   20333.0   19387.0   \n",
      "5       NaN       NaN       NaN       NaN  ...   50018.0   49800.0   55045.0   \n",
      "6       NaN       NaN       NaN       NaN  ...   18301.0   16470.0   15636.0   \n",
      "7       NaN       NaN       NaN       NaN  ...  104246.0   97995.0   82899.0   \n",
      "8       NaN       NaN       NaN       NaN  ...   71721.0   70133.0   74432.0   \n",
      "9       NaN       NaN       NaN       NaN  ...  122547.0  114465.0   98535.0   \n",
      "\n",
      "       2007      2008     2009     2010     2011     2012      2013  \n",
      "0    7461.0    6121.0   4100.0      NaN      NaN      NaN       NaN  \n",
      "1    1112.0     864.0    861.0      NaN      NaN      NaN       NaN  \n",
      "2  216580.0  220280.0      NaN      NaN      NaN      NaN       NaN  \n",
      "3  460650.0  535970.0      NaN      NaN      NaN      NaN       NaN  \n",
      "4   17828.0   18168.0  16376.0  16059.0  14401.0  15443.0   15368.0  \n",
      "5   32070.0   33395.0  36868.0  35592.0  36796.0  36369.0   38703.0  \n",
      "6    8477.0    8636.0   8988.0   8817.0   8082.0   8272.0    9237.0  \n",
      "7   64385.0   65136.0  60307.0  62161.0  74148.0  83285.0   92629.0  \n",
      "8   49898.0   51563.0  53244.0  51651.0  51197.0  51812.0   54071.0  \n",
      "9   72862.0   73772.0  69295.0  70978.0  82230.0  91557.0  101866.0  \n",
      "\n",
      "[10 rows x 38 columns]\n"
     ]
    }
   ],
   "source": [
    "Migration_Flows = pd.read_csv(file_path, skiprows = 12, header = 0)\n",
    "print(Migration_Flows.head(10))"
   ]
  },
  {
   "cell_type": "code",
   "execution_count": 101,
   "id": "abf88f19-e9cb-4fbc-b8f8-8973c562b9f6",
   "metadata": {},
   "outputs": [
    {
     "data": {
      "text/plain": [
       "CntName       0\n",
       "Criteria      0\n",
       "Type          0\n",
       "Coverage      0\n",
       "1980        182\n",
       "1981        181\n",
       "1982        181\n",
       "1983        177\n",
       "1984        177\n",
       "1985        176\n",
       "1986        170\n",
       "1987        168\n",
       "1988        168\n",
       "1989        168\n",
       "1990        159\n",
       "1991        147\n",
       "1992        141\n",
       "1993        138\n",
       "1994        140\n",
       "1995        130\n",
       "1996        121\n",
       "1997        122\n",
       "1998         74\n",
       "1999         62\n",
       "2000         55\n",
       "2001         55\n",
       "2002         49\n",
       "2003         53\n",
       "2004         41\n",
       "2005         44\n",
       "2006         25\n",
       "2007         21\n",
       "2008         25\n",
       "2009         47\n",
       "2010         54\n",
       "2011         43\n",
       "2012         35\n",
       "2013         39\n",
       "dtype: int64"
      ]
     },
     "execution_count": 101,
     "metadata": {},
     "output_type": "execute_result"
    }
   ],
   "source": [
    "Migration_Flows.isnull().sum()"
   ]
  },
  {
   "cell_type": "code",
   "execution_count": 103,
   "id": "d1ce148d-f1ba-4584-8de9-3877e4a57c51",
   "metadata": {},
   "outputs": [
    {
     "data": {
      "text/plain": [
       "<bound method DataFrame.info of                                                CntName        Criteria  \\\n",
       "0                                              Armenia       Residence   \n",
       "1                                              Armenia       Residence   \n",
       "2                                            Australia       Residence   \n",
       "3                                            Australia       Residence   \n",
       "4                                              Austria     Citizenship   \n",
       "..                                                 ...             ...   \n",
       "224  United Kingdom of Great Britain and Northern I...     Citizenship   \n",
       "225  United Kingdom of Great Britain and Northern I...     Citizenship   \n",
       "226  United Kingdom of Great Britain and Northern I...       Residence   \n",
       "227  United Kingdom of Great Britain and Northern I...       Residence   \n",
       "228                           United States of America  Place of birth   \n",
       "\n",
       "           Type    Coverage      1980      1981      1982      1983      1984  \\\n",
       "0     Emigrants        Both       NaN       NaN       NaN       NaN       NaN   \n",
       "1    Immigrants        Both       NaN       NaN       NaN       NaN       NaN   \n",
       "2     Emigrants        Both   90860.0   85600.0   92340.0  100510.0   96360.0   \n",
       "3    Immigrants        Both  184290.0  212690.0  195200.0  153570.0  153530.0   \n",
       "4     Emigrants    Citizens       NaN       NaN       NaN       NaN       NaN   \n",
       "..          ...         ...       ...       ...       ...       ...       ...   \n",
       "224  Immigrants    Citizens       NaN       NaN       NaN       NaN       NaN   \n",
       "225  Immigrants  Foreigners       NaN       NaN       NaN       NaN       NaN   \n",
       "226   Emigrants        Both       NaN       NaN       NaN       NaN       NaN   \n",
       "227  Immigrants        Both  173000.0  153000.0  201000.0  202000.0  201000.0   \n",
       "228  Immigrants  Foreigners  530639.0  596600.0  594131.0  559763.0  543903.0   \n",
       "\n",
       "         1985  ...      2004       2005       2006       2007       2008  \\\n",
       "0         NaN  ...    8451.0     9303.0     8053.0     7461.0     6121.0   \n",
       "1         NaN  ...    1514.0     1497.0     1335.0     1112.0      864.0   \n",
       "2     93440.0  ...  212200.0   206690.0   204800.0   216580.0   220280.0   \n",
       "3    172550.0  ...  350990.0   363470.0   402210.0   460650.0   535970.0   \n",
       "4         NaN  ...   21703.0    20333.0    19387.0    17828.0    18168.0   \n",
       "..        ...  ...       ...        ...        ...        ...        ...   \n",
       "224       NaN  ...   85460.0    89067.0    77306.0    71424.0    85081.0   \n",
       "225       NaN  ...  432637.0   407403.0   451702.0   455290.0   505161.0   \n",
       "226       NaN  ...  310389.0   328408.0   369470.0   317587.0   427207.0   \n",
       "227  232000.0  ...  518097.0   496469.0   529008.0   526714.0   590242.0   \n",
       "228  570009.0  ...  957883.0  1122257.0  1266129.0  1052415.0  1107126.0   \n",
       "\n",
       "          2009       2010       2011       2012      2013  \n",
       "0       4100.0        NaN        NaN        NaN       NaN  \n",
       "1        861.0        NaN        NaN        NaN       NaN  \n",
       "2          NaN        NaN        NaN        NaN       NaN  \n",
       "3          NaN        NaN        NaN        NaN       NaN  \n",
       "4      16376.0    16059.0    14401.0    15443.0   15368.0  \n",
       "..         ...        ...        ...        ...       ...  \n",
       "224    95970.0    93321.0    78430.0    80196.0   76136.0  \n",
       "225   470544.0   497629.0   487614.0   417844.0  449910.0  \n",
       "226   368177.0   339306.0   350703.0   321217.0  316934.0  \n",
       "227   566514.0   590950.0   566044.0   498040.0  526046.0  \n",
       "228  1130818.0  1042625.0  1062040.0  1031631.0  990553.0  \n",
       "\n",
       "[229 rows x 38 columns]>"
      ]
     },
     "execution_count": 103,
     "metadata": {},
     "output_type": "execute_result"
    }
   ],
   "source": [
    "Migration_Flows.info"
   ]
  },
  {
   "cell_type": "code",
   "execution_count": 105,
   "id": "efc67fa2-d668-4731-8196-013f811ddb70",
   "metadata": {},
   "outputs": [
    {
     "data": {
      "text/plain": [
       "CntName      object\n",
       "Criteria     object\n",
       "Type         object\n",
       "Coverage     object\n",
       "1980        float64\n",
       "1981        float64\n",
       "1982        float64\n",
       "1983        float64\n",
       "1984        float64\n",
       "1985        float64\n",
       "1986        float64\n",
       "1987        float64\n",
       "1988        float64\n",
       "1989        float64\n",
       "1990        float64\n",
       "1991        float64\n",
       "1992        float64\n",
       "1993        float64\n",
       "1994        float64\n",
       "1995        float64\n",
       "1996        float64\n",
       "1997        float64\n",
       "1998        float64\n",
       "1999        float64\n",
       "2000        float64\n",
       "2001        float64\n",
       "2002        float64\n",
       "2003        float64\n",
       "2004        float64\n",
       "2005        float64\n",
       "2006        float64\n",
       "2007        float64\n",
       "2008        float64\n",
       "2009        float64\n",
       "2010        float64\n",
       "2011        float64\n",
       "2012        float64\n",
       "2013        float64\n",
       "dtype: object"
      ]
     },
     "execution_count": 105,
     "metadata": {},
     "output_type": "execute_result"
    }
   ],
   "source": [
    "Migration_Flows.dtypes"
   ]
  },
  {
   "cell_type": "code",
   "execution_count": 107,
   "id": "af8dae48-f2c3-4a74-89a6-47d75ce0d2d2",
   "metadata": {},
   "outputs": [
    {
     "data": {
      "text/plain": [
       "<bound method DataFrame.info of                                                CntName        Criteria  \\\n",
       "0                                              Armenia       Residence   \n",
       "1                                              Armenia       Residence   \n",
       "2                                            Australia       Residence   \n",
       "3                                            Australia       Residence   \n",
       "4                                              Austria     Citizenship   \n",
       "..                                                 ...             ...   \n",
       "224  United Kingdom of Great Britain and Northern I...     Citizenship   \n",
       "225  United Kingdom of Great Britain and Northern I...     Citizenship   \n",
       "226  United Kingdom of Great Britain and Northern I...       Residence   \n",
       "227  United Kingdom of Great Britain and Northern I...       Residence   \n",
       "228                           United States of America  Place of birth   \n",
       "\n",
       "           Type    Coverage      1980      1981      1982      1983      1984  \\\n",
       "0     Emigrants        Both       NaN       NaN       NaN       NaN       NaN   \n",
       "1    Immigrants        Both       NaN       NaN       NaN       NaN       NaN   \n",
       "2     Emigrants        Both   90860.0   85600.0   92340.0  100510.0   96360.0   \n",
       "3    Immigrants        Both  184290.0  212690.0  195200.0  153570.0  153530.0   \n",
       "4     Emigrants    Citizens       NaN       NaN       NaN       NaN       NaN   \n",
       "..          ...         ...       ...       ...       ...       ...       ...   \n",
       "224  Immigrants    Citizens       NaN       NaN       NaN       NaN       NaN   \n",
       "225  Immigrants  Foreigners       NaN       NaN       NaN       NaN       NaN   \n",
       "226   Emigrants        Both       NaN       NaN       NaN       NaN       NaN   \n",
       "227  Immigrants        Both  173000.0  153000.0  201000.0  202000.0  201000.0   \n",
       "228  Immigrants  Foreigners  530639.0  596600.0  594131.0  559763.0  543903.0   \n",
       "\n",
       "         1985  ...      2004       2005       2006       2007       2008  \\\n",
       "0         NaN  ...    8451.0     9303.0     8053.0     7461.0     6121.0   \n",
       "1         NaN  ...    1514.0     1497.0     1335.0     1112.0      864.0   \n",
       "2     93440.0  ...  212200.0   206690.0   204800.0   216580.0   220280.0   \n",
       "3    172550.0  ...  350990.0   363470.0   402210.0   460650.0   535970.0   \n",
       "4         NaN  ...   21703.0    20333.0    19387.0    17828.0    18168.0   \n",
       "..        ...  ...       ...        ...        ...        ...        ...   \n",
       "224       NaN  ...   85460.0    89067.0    77306.0    71424.0    85081.0   \n",
       "225       NaN  ...  432637.0   407403.0   451702.0   455290.0   505161.0   \n",
       "226       NaN  ...  310389.0   328408.0   369470.0   317587.0   427207.0   \n",
       "227  232000.0  ...  518097.0   496469.0   529008.0   526714.0   590242.0   \n",
       "228  570009.0  ...  957883.0  1122257.0  1266129.0  1052415.0  1107126.0   \n",
       "\n",
       "          2009       2010       2011       2012      2013  \n",
       "0       4100.0        NaN        NaN        NaN       NaN  \n",
       "1        861.0        NaN        NaN        NaN       NaN  \n",
       "2          NaN        NaN        NaN        NaN       NaN  \n",
       "3          NaN        NaN        NaN        NaN       NaN  \n",
       "4      16376.0    16059.0    14401.0    15443.0   15368.0  \n",
       "..         ...        ...        ...        ...       ...  \n",
       "224    95970.0    93321.0    78430.0    80196.0   76136.0  \n",
       "225   470544.0   497629.0   487614.0   417844.0  449910.0  \n",
       "226   368177.0   339306.0   350703.0   321217.0  316934.0  \n",
       "227   566514.0   590950.0   566044.0   498040.0  526046.0  \n",
       "228  1130818.0  1042625.0  1062040.0  1031631.0  990553.0  \n",
       "\n",
       "[229 rows x 38 columns]>"
      ]
     },
     "execution_count": 107,
     "metadata": {},
     "output_type": "execute_result"
    }
   ],
   "source": [
    "Migration_Flows.info"
   ]
  },
  {
   "cell_type": "code",
   "execution_count": 109,
   "id": "758e1600-667e-4379-a3fd-a3309841130d",
   "metadata": {},
   "outputs": [
    {
     "data": {
      "text/plain": [
       "Index(['CntName', 'Criteria', 'Type', 'Coverage', '1980', '1981', '1982',\n",
       "       '1983', '1984', '1985', '1986', '1987', '1988', '1989', '1990', '1991',\n",
       "       '1992', '1993', '1994', '1995', '1996', '1997', '1998', '1999', '2000',\n",
       "       '2001', '2002', '2003', '2004', '2005', '2006', '2007', '2008', '2009',\n",
       "       '2010', '2011', '2012', '2013'],\n",
       "      dtype='object')"
      ]
     },
     "execution_count": 109,
     "metadata": {},
     "output_type": "execute_result"
    }
   ],
   "source": [
    "Migration_Flows.columns"
   ]
  },
  {
   "cell_type": "code",
   "execution_count": 111,
   "id": "7ee06bad-e174-45d5-ae60-59fb1ec5581b",
   "metadata": {},
   "outputs": [
    {
     "name": "stdout",
     "output_type": "stream",
     "text": [
      "     CntName     Criteria        Type  Coverage      1980      1981      1982  \\\n",
      "0    Armenia    Residence   Emigrants      Both       0.0       0.0       0.0   \n",
      "1    Armenia    Residence  Immigrants      Both       0.0       0.0       0.0   \n",
      "2  Australia    Residence   Emigrants      Both   90860.0   85600.0   92340.0   \n",
      "3  Australia    Residence  Immigrants      Both  184290.0  212690.0  195200.0   \n",
      "4    Austria  Citizenship   Emigrants  Citizens       0.0       0.0       0.0   \n",
      "\n",
      "       1983      1984      1985  ...      2004      2005      2006      2007  \\\n",
      "0       0.0       0.0       0.0  ...    8451.0    9303.0    8053.0    7461.0   \n",
      "1       0.0       0.0       0.0  ...    1514.0    1497.0    1335.0    1112.0   \n",
      "2  100510.0   96360.0   93440.0  ...  212200.0  206690.0  204800.0  216580.0   \n",
      "3  153570.0  153530.0  172550.0  ...  350990.0  363470.0  402210.0  460650.0   \n",
      "4       0.0       0.0       0.0  ...   21703.0   20333.0   19387.0   17828.0   \n",
      "\n",
      "       2008     2009     2010     2011     2012     2013  \n",
      "0    6121.0   4100.0      0.0      0.0      0.0      0.0  \n",
      "1     864.0    861.0      0.0      0.0      0.0      0.0  \n",
      "2  220280.0      0.0      0.0      0.0      0.0      0.0  \n",
      "3  535970.0      0.0      0.0      0.0      0.0      0.0  \n",
      "4   18168.0  16376.0  16059.0  14401.0  15443.0  15368.0  \n",
      "\n",
      "[5 rows x 38 columns]\n"
     ]
    }
   ],
   "source": [
    "# Replace NaN values with \"0\" in the \"Zip Code\" column \n",
    "Migration_Flows.fillna(0, inplace=True) \n",
    "\n",
    "# Optional: Check if the NaN values have been replaced \n",
    "print(Migration_Flows.head())"
   ]
  },
  {
   "cell_type": "code",
   "execution_count": 113,
   "id": "d49f2e96-d767-4e51-8a7e-eb1d1ffcc36b",
   "metadata": {},
   "outputs": [
    {
     "data": {
      "text/plain": [
       "CntName     0\n",
       "Criteria    0\n",
       "Type        0\n",
       "Coverage    0\n",
       "1980        0\n",
       "1981        0\n",
       "1982        0\n",
       "1983        0\n",
       "1984        0\n",
       "1985        0\n",
       "1986        0\n",
       "1987        0\n",
       "1988        0\n",
       "1989        0\n",
       "1990        0\n",
       "1991        0\n",
       "1992        0\n",
       "1993        0\n",
       "1994        0\n",
       "1995        0\n",
       "1996        0\n",
       "1997        0\n",
       "1998        0\n",
       "1999        0\n",
       "2000        0\n",
       "2001        0\n",
       "2002        0\n",
       "2003        0\n",
       "2004        0\n",
       "2005        0\n",
       "2006        0\n",
       "2007        0\n",
       "2008        0\n",
       "2009        0\n",
       "2010        0\n",
       "2011        0\n",
       "2012        0\n",
       "2013        0\n",
       "dtype: int64"
      ]
     },
     "execution_count": 113,
     "metadata": {},
     "output_type": "execute_result"
    }
   ],
   "source": [
    "Migration_Flows.isnull().sum()"
   ]
  },
  {
   "cell_type": "code",
   "execution_count": 115,
   "id": "a0468424-28fa-46b9-b0a0-e2f47b437644",
   "metadata": {},
   "outputs": [
    {
     "name": "stdout",
     "output_type": "stream",
     "text": [
      "     CntName     Criteria        Type  Coverage      1980      1981      1982  \\\n",
      "0    Armenia    Residence   Emigrants      Both       0.0       0.0       0.0   \n",
      "1    Armenia    Residence  Immigrants      Both       0.0       0.0       0.0   \n",
      "2  Australia    Residence   Emigrants      Both   90860.0   85600.0   92340.0   \n",
      "3  Australia    Residence  Immigrants      Both  184290.0  212690.0  195200.0   \n",
      "4    Austria  Citizenship   Emigrants  Citizens       0.0       0.0       0.0   \n",
      "\n",
      "       1983      1984      1985  ...      2005      2006      2007      2008  \\\n",
      "0       0.0       0.0       0.0  ...    9303.0    8053.0    7461.0    6121.0   \n",
      "1       0.0       0.0       0.0  ...    1497.0    1335.0    1112.0     864.0   \n",
      "2  100510.0   96360.0   93440.0  ...  206690.0  204800.0  216580.0  220280.0   \n",
      "3  153570.0  153530.0  172550.0  ...  363470.0  402210.0  460650.0  535970.0   \n",
      "4       0.0       0.0       0.0  ...   20333.0   19387.0   17828.0   18168.0   \n",
      "\n",
      "      2009     2010     2011     2012     2013  Total_Migration  \n",
      "0   4100.0      0.0      0.0      0.0      0.0          86335.0  \n",
      "1    861.0      0.0      0.0      0.0      0.0          14355.0  \n",
      "2      0.0      0.0      0.0      0.0      0.0        4461160.0  \n",
      "3      0.0      0.0      0.0      0.0      0.0        7965110.0  \n",
      "4  16376.0  16059.0  14401.0  15443.0  15368.0         327992.0  \n",
      "\n",
      "[5 rows x 39 columns]\n"
     ]
    }
   ],
   "source": [
    "# Create a list of column names from 1980 to 2013 \n",
    "column_list = [str(year) for year in range(1980, 2013)] \n",
    "\n",
    "# Create a new column 'Total_Migration' which is the sum of columns from 1980 to 2023 \n",
    "Migration_Flows['Total_Migration'] = Migration_Flows[column_list].sum(axis=1) \n",
    "\n",
    "# Display the DataFrame to confirm the new column \n",
    "print(Migration_Flows.head())"
   ]
  },
  {
   "cell_type": "code",
   "execution_count": 117,
   "id": "849332bd-23a6-4c41-a5d3-2029d6f62c52",
   "metadata": {},
   "outputs": [
    {
     "name": "stdout",
     "output_type": "stream",
     "text": [
      "                                              CntName  Total_Migration\n",
      "0                                             Armenia         100690.0\n",
      "1                                           Australia       12426270.0\n",
      "2                                             Austria        4900224.0\n",
      "3                                          Azerbaijan         160142.0\n",
      "4                                             Belarus         292562.0\n",
      "5                                             Belgium        8000747.0\n",
      "6                                            Bulgaria         102795.0\n",
      "7                                              Canada        6665191.0\n",
      "8                                             Croatia         965171.0\n",
      "9                                              Cyprus         694136.0\n",
      "10                                     Czech Republic        2444292.0\n",
      "11                                            Denmark        5425620.0\n",
      "12                                            Estonia         183961.0\n",
      "13                                            Finland        1718861.0\n",
      "14                                             France        7886486.0\n",
      "15                                            Germany       85876443.0\n",
      "16                                             Greece        1871072.0\n",
      "17                                            Hungary         755151.0\n",
      "18                                            Iceland         497243.0\n",
      "19                                            Ireland        4391430.0\n",
      "20                                              Italy       16120530.0\n",
      "21                                         Kazakhstan        1349503.0\n",
      "22                                         Kyrgyzstan        1227523.0\n",
      "23                                             Latvia         940653.0\n",
      "24                                      Liechtenstein           9790.0\n",
      "25                                          Lithuania        1187385.0\n",
      "26                                         Luxembourg         948638.0\n",
      "27                                              Malta          92846.0\n",
      "28                                        Netherlands       10379411.0\n",
      "29                                        New Zealand        7793649.0\n",
      "30                                             Norway        3657849.0\n",
      "31                                             Poland        4349002.0\n",
      "32                                           Portugal        2035969.0\n",
      "33                                Republic of Moldova          49108.0\n",
      "34                                            Romania        4479279.0\n",
      "35                                 Russian Federation       14866468.0\n",
      "36                                           Slovakia         363785.0\n",
      "37                                           Slovenia         807585.0\n",
      "38                                              Spain       20265188.0\n",
      "39                                             Sweden        4877739.0\n",
      "40                                        Switzerland        6573581.0\n",
      "41          The former Yugoslav Republic of Macedonia          29523.0\n",
      "42                                            Ukraine        1481046.0\n",
      "43  United Kingdom of Great Britain and Northern I...       27922205.0\n",
      "44                           United States of America       29546136.0\n"
     ]
    }
   ],
   "source": [
    "# Group by 'Country' and sum the 'Total_Migration' for each country \n",
    "total_migration_by_country = Migration_Flows.groupby('CntName')['Total_Migration'].sum().reset_index() \n",
    "\n",
    "# Display the result \n",
    "print(total_migration_by_country)"
   ]
  },
  {
   "cell_type": "code",
   "execution_count": 89,
   "id": "3a022def-ece5-4fe1-b048-b6cd60e66d26",
   "metadata": {},
   "outputs": [],
   "source": [
    "Migration_Flows.to_csv(\"/Users/syedakramulhassan/Library/CloudStorage/OneDrive-Personal/WorkSpace/Learning/Python/Learning Pandas/Migration_Flows.csv\", index=False)"
   ]
  },
  {
   "cell_type": "code",
   "execution_count": 119,
   "id": "214abcd9-f9e3-46a2-b18a-e4a1e474d17d",
   "metadata": {},
   "outputs": [
    {
     "name": "stdout",
     "output_type": "stream",
     "text": [
      "                                               Country        Criteria  \\\n",
      "0                                              Armenia       Residence   \n",
      "1                                              Armenia       Residence   \n",
      "2                                            Australia       Residence   \n",
      "3                                            Australia       Residence   \n",
      "4                                              Austria     Citizenship   \n",
      "..                                                 ...             ...   \n",
      "224  United Kingdom of Great Britain and Northern I...     Citizenship   \n",
      "225  United Kingdom of Great Britain and Northern I...     Citizenship   \n",
      "226  United Kingdom of Great Britain and Northern I...       Residence   \n",
      "227  United Kingdom of Great Britain and Northern I...       Residence   \n",
      "228                           United States of America  Place of birth   \n",
      "\n",
      "           Type    Coverage      1980      1981      1982      1983      1984  \\\n",
      "0     Emigrants        Both       0.0       0.0       0.0       0.0       0.0   \n",
      "1    Immigrants        Both       0.0       0.0       0.0       0.0       0.0   \n",
      "2     Emigrants        Both   90860.0   85600.0   92340.0  100510.0   96360.0   \n",
      "3    Immigrants        Both  184290.0  212690.0  195200.0  153570.0  153530.0   \n",
      "4     Emigrants    Citizens       0.0       0.0       0.0       0.0       0.0   \n",
      "..          ...         ...       ...       ...       ...       ...       ...   \n",
      "224  Immigrants    Citizens       0.0       0.0       0.0       0.0       0.0   \n",
      "225  Immigrants  Foreigners       0.0       0.0       0.0       0.0       0.0   \n",
      "226   Emigrants        Both       0.0       0.0       0.0       0.0       0.0   \n",
      "227  Immigrants        Both  173000.0  153000.0  201000.0  202000.0  201000.0   \n",
      "228  Immigrants  Foreigners  530639.0  596600.0  594131.0  559763.0  543903.0   \n",
      "\n",
      "         1985  ...       2005       2006       2007       2008       2009  \\\n",
      "0         0.0  ...     9303.0     8053.0     7461.0     6121.0     4100.0   \n",
      "1         0.0  ...     1497.0     1335.0     1112.0      864.0      861.0   \n",
      "2     93440.0  ...   206690.0   204800.0   216580.0   220280.0        0.0   \n",
      "3    172550.0  ...   363470.0   402210.0   460650.0   535970.0        0.0   \n",
      "4         0.0  ...    20333.0    19387.0    17828.0    18168.0    16376.0   \n",
      "..        ...  ...        ...        ...        ...        ...        ...   \n",
      "224       0.0  ...    89067.0    77306.0    71424.0    85081.0    95970.0   \n",
      "225       0.0  ...   407403.0   451702.0   455290.0   505161.0   470544.0   \n",
      "226       0.0  ...   328408.0   369470.0   317587.0   427207.0   368177.0   \n",
      "227  232000.0  ...   496469.0   529008.0   526714.0   590242.0   566514.0   \n",
      "228  570009.0  ...  1122257.0  1266129.0  1052415.0  1107126.0  1130818.0   \n",
      "\n",
      "          2010       2011       2012      2013  Total_Migration  \n",
      "0          0.0        0.0        0.0       0.0          86335.0  \n",
      "1          0.0        0.0        0.0       0.0          14355.0  \n",
      "2          0.0        0.0        0.0       0.0        4461160.0  \n",
      "3          0.0        0.0        0.0       0.0        7965110.0  \n",
      "4      16059.0    14401.0    15443.0   15368.0         327992.0  \n",
      "..         ...        ...        ...       ...              ...  \n",
      "224    93321.0    78430.0    80196.0   76136.0        1282154.0  \n",
      "225   497629.0   487614.0   417844.0  449910.0        6506353.0  \n",
      "226   339306.0   350703.0   321217.0  316934.0        4196629.0  \n",
      "227   590950.0   566044.0   498040.0  526046.0       11211508.0  \n",
      "228  1042625.0  1062040.0  1031631.0  990553.0       29546136.0  \n",
      "\n",
      "[229 rows x 39 columns]\n"
     ]
    }
   ],
   "source": [
    "# Rename the column 'OldName' to 'NewName' \n",
    "Migration_Flows.rename(columns={'CntName': 'Country'}, inplace=True) \n",
    "\n",
    "# Display the DataFrame to confirm the change \n",
    "print(Migration_Flows)"
   ]
  },
  {
   "cell_type": "code",
   "execution_count": 121,
   "id": "9ebb329f-6b5a-4045-9c6a-18367d9ca291",
   "metadata": {},
   "outputs": [],
   "source": [
    "Migration_Flows.to_csv(\"/Users/syedakramulhassan/Library/CloudStorage/OneDrive-Personal/WorkSpace/Learning/Python/Learning Pandas/Migration_Flows.csv\", index=False)"
   ]
  },
  {
   "cell_type": "code",
   "execution_count": 123,
   "id": "57b566c3-b638-43b9-90b3-9830144ca68b",
   "metadata": {},
   "outputs": [
    {
     "name": "stdout",
     "output_type": "stream",
     "text": [
      "         Type  Total_Migration\n",
      "0   Emigrants      101814564.0\n",
      "1  Immigrants      204898314.0\n"
     ]
    }
   ],
   "source": [
    "# Group by 'Country' and sum the 'Total_Migration' for each country \n",
    "total_migration_by_Type = Migration_Flows.groupby('Type')['Total_Migration'].sum().reset_index() \n",
    "\n",
    "# Display the result \n",
    "print(total_migration_by_Type)"
   ]
  },
  {
   "cell_type": "code",
   "execution_count": 129,
   "id": "0a868daa-a7fd-4515-9547-bd505aa50347",
   "metadata": {},
   "outputs": [
    {
     "name": "stdout",
     "output_type": "stream",
     "text": [
      "Total Migration for Australia: 12426270.0\n"
     ]
    },
    {
     "name": "stderr",
     "output_type": "stream",
     "text": [
      "/var/folders/ym/7z7j1ltd6k3bb0f1vdky5vk40000gn/T/ipykernel_22957/3490416032.py:5: SettingWithCopyWarning: \n",
      "A value is trying to be set on a copy of a slice from a DataFrame.\n",
      "Try using .loc[row_indexer,col_indexer] = value instead\n",
      "\n",
      "See the caveats in the documentation: https://pandas.pydata.org/pandas-docs/stable/user_guide/indexing.html#returning-a-view-versus-a-copy\n",
      "  country_data['Total_Migration'] = country_data[columns_to_sum].sum(axis=1)\n"
     ]
    }
   ],
   "source": [
    "# Function to calculate total migration for a specific country\n",
    "def total_migration_for_country(Migration_Flows, country):\n",
    "    columns_to_sum = [str(year) for year in range(1980, 2013)] # Create a list of column names from 1980 to 2023\n",
    "    country_data = Migration_Flows[Migration_Flows['Country'] == country] # Filter the DataFrame for the specified country\n",
    "    country_data['Total_Migration'] = country_data[columns_to_sum].sum(axis=1) # Calculate the Total_Migration for each row\n",
    "    return country_data['Total_Migration'].sum() # Return the sum of Total_Migration for the country\n",
    "\n",
    "# Example usage for the country 'Australia'\n",
    "total_migration_Australia = total_migration_for_country(Migration_Flows, 'Australia')\n",
    "\n",
    "print(f\"Total Migration for Australia: {total_migration_Australia}\")"
   ]
  },
  {
   "cell_type": "code",
   "execution_count": 131,
   "id": "3db1c34a-561d-4f53-9979-536ddfa3b961",
   "metadata": {},
   "outputs": [
    {
     "name": "stdout",
     "output_type": "stream",
     "text": [
      "Total Migration for Austria: 4900224.0\n"
     ]
    },
    {
     "name": "stderr",
     "output_type": "stream",
     "text": [
      "/var/folders/ym/7z7j1ltd6k3bb0f1vdky5vk40000gn/T/ipykernel_22957/3490416032.py:5: SettingWithCopyWarning: \n",
      "A value is trying to be set on a copy of a slice from a DataFrame.\n",
      "Try using .loc[row_indexer,col_indexer] = value instead\n",
      "\n",
      "See the caveats in the documentation: https://pandas.pydata.org/pandas-docs/stable/user_guide/indexing.html#returning-a-view-versus-a-copy\n",
      "  country_data['Total_Migration'] = country_data[columns_to_sum].sum(axis=1)\n"
     ]
    }
   ],
   "source": [
    "# Example usage for the country 'Australia'\n",
    "total_migration_Austria = total_migration_for_country(Migration_Flows, 'Austria')\n",
    "\n",
    "print(f\"Total Migration for Austria: {total_migration_Austria}\")"
   ]
  },
  {
   "cell_type": "code",
   "execution_count": null,
   "id": "0547a86f-9c71-4eac-a70c-ffe999dbce22",
   "metadata": {},
   "outputs": [],
   "source": []
  }
 ],
 "metadata": {
  "kernelspec": {
   "display_name": "Python [conda env:base] *",
   "language": "python",
   "name": "conda-base-py"
  },
  "language_info": {
   "codemirror_mode": {
    "name": "ipython",
    "version": 3
   },
   "file_extension": ".py",
   "mimetype": "text/x-python",
   "name": "python",
   "nbconvert_exporter": "python",
   "pygments_lexer": "ipython3",
   "version": "3.12.7"
  }
 },
 "nbformat": 4,
 "nbformat_minor": 5
}
